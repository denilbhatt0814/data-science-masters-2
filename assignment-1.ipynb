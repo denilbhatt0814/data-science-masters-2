{
 "cells": [
  {
   "attachments": {},
   "cell_type": "markdown",
   "metadata": {},
   "source": [
    "# Assignment - 1:\n",
    "~ Denil Bhatt ([Email](mailto:denilbhatt2004@gmail.com) | [LinkedIn](https://www.linkedin.com/in/denil-bhatt/))"
   ]
  },
  {
   "attachments": {},
   "cell_type": "markdown",
   "metadata": {},
   "source": [
    "Q1. Create one variable containing following type of data:\n",
    "(i) string\n",
    "(ii) list\n",
    "(iii) float\n",
    "(iv) tuple"
   ]
  },
  {
   "cell_type": "code",
   "execution_count": 1,
   "metadata": {},
   "outputs": [],
   "source": [
    "my_string = \"this is my string\"\n",
    "my_list = [\"first\", 1, True]\n",
    "my_float = 7.999\n",
    "my_tuple = (0,1)"
   ]
  },
  {
   "attachments": {},
   "cell_type": "markdown",
   "metadata": {},
   "source": [
    "Q2. Given are some following variables containing data:"
   ]
  },
  {
   "cell_type": "code",
   "execution_count": 2,
   "metadata": {},
   "outputs": [
    {
     "name": "stdout",
     "output_type": "stream",
     "text": [
      "var1:  <class 'str'>\n",
      "var2:  <class 'str'>\n",
      "var3:  <class 'list'>\n",
      "var4:  <class 'int'>\n"
     ]
    }
   ],
   "source": [
    "var1 = \"\"\n",
    "var2 = \"[ DS , ML , Python]\"\n",
    "var3 = [ \"DS\" , \"ML\" , \"Python\" ]\n",
    "var4 = 1\n",
    "print(\"var1: \", type(var1))\n",
    "print(\"var2: \", type(var2))\n",
    "print(\"var3: \", type(var3))\n",
    "print(\"var4: \", type(var4))"
   ]
  },
  {
   "attachments": {},
   "cell_type": "markdown",
   "metadata": {},
   "source": [
    "Q3. Explain the use of the following operators using an example:\n",
    "(i) /\n",
    "(ii) %\n",
    "(iii) //\n",
    "(iv) **"
   ]
  },
  {
   "cell_type": "code",
   "execution_count": 5,
   "metadata": {},
   "outputs": [
    {
     "name": "stdout",
     "output_type": "stream",
     "text": [
      "Division:  2.5\n",
      "Modulus:  1\n",
      "Qoutient:  2\n",
      "Power:  125\n"
     ]
    }
   ],
   "source": [
    "# Division operator: /\n",
    "print(\"Division: \" ,5/2) \n",
    "\n",
    "# Modulus operator: % - (remainder)\n",
    "print(\"Modulus: \",5%2)\n",
    "\n",
    "# Greatest integer division: // (quotient)\n",
    "print(\"Qoutient: \",5//2)\n",
    "\n",
    "# exponential operation: ** (Power)\n",
    "print(\"Power: \", 5**3)\n"
   ]
  },
  {
   "attachments": {},
   "cell_type": "markdown",
   "metadata": {},
   "source": [
    "Q4. Create a list of length 10 of your choice containing multiple types of data. Using for loop print the\n",
    "element and its data type."
   ]
  },
  {
   "cell_type": "code",
   "execution_count": 6,
   "metadata": {},
   "outputs": [
    {
     "name": "stdout",
     "output_type": "stream",
     "text": [
      "False\n",
      "1\n",
      "Two\n",
      "[3, 33]\n",
      "(44, 444)\n",
      "5.55\n",
      "(6+7j)\n",
      "{7}\n",
      "{'one': 1, 'two': 2}\n",
      "None\n"
     ]
    }
   ],
   "source": [
    "list_of_len_10 = [\n",
    "    False,\n",
    "    1,\n",
    "    \"Two\",\n",
    "    [3,33],\n",
    "    (44,444),\n",
    "    5.55,\n",
    "    6+7j,\n",
    "    {7,7},\n",
    "    {\"one\": 1, \"two\": 2},\n",
    "    None\n",
    "]\n",
    "\n",
    "for item in list_of_len_10:\n",
    "    print(item)"
   ]
  },
  {
   "attachments": {},
   "cell_type": "markdown",
   "metadata": {},
   "source": [
    "Q5. Using a while loop, verify if the number A is purely divisible by number B and if so then how many\n",
    "times it can be divisible."
   ]
  },
  {
   "cell_type": "code",
   "execution_count": 9,
   "metadata": {},
   "outputs": [
    {
     "name": "stdout",
     "output_type": "stream",
     "text": [
      "15 is purely divisible by 3.\n",
      "5 times\n"
     ]
    }
   ],
   "source": [
    "numA = 15\n",
    "numB = 3\n",
    "\n",
    "if numA % numB == 0:\n",
    "    print(f\"{numA} is purely divisible by {numB}.\")\n",
    "else:\n",
    "    print(f\"{numA} is not purely divisible by {numB}.\")\n",
    "    exit()\n",
    "\n",
    "divsi_count = 0\n",
    "while(numA > 0):\n",
    "    numA = numA - numB\n",
    "    divsi_count+=1\n",
    "\n",
    "print(f\"{divsi_count} times\")"
   ]
  },
  {
   "attachments": {},
   "cell_type": "markdown",
   "metadata": {},
   "source": [
    "Q6. Create a list containing 25 int type data. Using for loop and if-else condition print if the element is\n",
    "divisible by 3 or not."
   ]
  },
  {
   "cell_type": "code",
   "execution_count": 11,
   "metadata": {},
   "outputs": [
    {
     "name": "stdout",
     "output_type": "stream",
     "text": [
      "1 is not divisible by 3\n",
      "2 is not divisible by 3\n",
      "3 is divisible by 3\n",
      "4 is not divisible by 3\n",
      "5 is not divisible by 3\n",
      "6 is divisible by 3\n",
      "7 is not divisible by 3\n",
      "8 is not divisible by 3\n",
      "9 is divisible by 3\n",
      "10 is not divisible by 3\n",
      "11 is not divisible by 3\n",
      "12 is divisible by 3\n",
      "13 is not divisible by 3\n",
      "14 is not divisible by 3\n",
      "15 is divisible by 3\n",
      "16 is not divisible by 3\n",
      "17 is not divisible by 3\n",
      "18 is divisible by 3\n",
      "19 is not divisible by 3\n",
      "20 is not divisible by 3\n",
      "21 is divisible by 3\n",
      "22 is not divisible by 3\n",
      "23 is not divisible by 3\n",
      "24 is divisible by 3\n",
      "25 is not divisible by 3\n"
     ]
    }
   ],
   "source": [
    "# list of 25 int\n",
    "list_of_25 = [i for i in range(1, 26)]\n",
    "\n",
    "for num in list_of_25:\n",
    "    if num % 3 == 0:\n",
    "        print(f\"{num} is divisible by 3\")\n",
    "    else:\n",
    "        print(f\"{num} is not divisible by 3\")"
   ]
  },
  {
   "attachments": {},
   "cell_type": "markdown",
   "metadata": {},
   "source": [
    "Q7. What do you understand about mutable and immutable data types? Give examples for both showing\n",
    "this property."
   ]
  },
  {
   "attachments": {},
   "cell_type": "markdown",
   "metadata": {},
   "source": [
    "In my understanding,\n",
    "- Mutable data types are the data types who's values can be changed even after assigning once.\n",
    "\n",
    "- Immutable data types are those who's value can't be modified once assigned, it maybe completely overwritten but not partially modified."
   ]
  },
  {
   "cell_type": "code",
   "execution_count": 12,
   "metadata": {},
   "outputs": [
    {
     "name": "stdout",
     "output_type": "stream",
     "text": [
      "[1, 2, 3]\n",
      "[1, 0, 3]\n"
     ]
    }
   ],
   "source": [
    "# List is a mutable data type:\n",
    "my_list = [1,2,3]\n",
    "print(my_list)\n",
    "my_list[1] = 0 # this is allowed\n",
    "print(my_list)"
   ]
  },
  {
   "cell_type": "code",
   "execution_count": 13,
   "metadata": {},
   "outputs": [
    {
     "name": "stdout",
     "output_type": "stream",
     "text": [
      "(1, 2, 3)\n"
     ]
    },
    {
     "ename": "TypeError",
     "evalue": "'tuple' object does not support item assignment",
     "output_type": "error",
     "traceback": [
      "\u001b[0;31m---------------------------------------------------------------------------\u001b[0m",
      "\u001b[0;31mTypeError\u001b[0m                                 Traceback (most recent call last)",
      "Cell \u001b[0;32mIn[13], line 4\u001b[0m\n\u001b[1;32m      2\u001b[0m my_tuple \u001b[39m=\u001b[39m (\u001b[39m1\u001b[39m,\u001b[39m2\u001b[39m,\u001b[39m3\u001b[39m)\n\u001b[1;32m      3\u001b[0m \u001b[39mprint\u001b[39m(my_tuple)\n\u001b[0;32m----> 4\u001b[0m my_tuple[\u001b[39m1\u001b[39;49m] \u001b[39m=\u001b[39m \u001b[39m0\u001b[39m \u001b[39m# this will throw an error\u001b[39;00m\n\u001b[1;32m      5\u001b[0m \u001b[39mprint\u001b[39m(my_tuple)\n",
      "\u001b[0;31mTypeError\u001b[0m: 'tuple' object does not support item assignment"
     ]
    }
   ],
   "source": [
    "# Tuples are immutable\n",
    "my_tuple = (1,2,3)\n",
    "print(my_tuple)\n",
    "my_tuple[1] = 0 # this will throw an error\n",
    "print(my_tuple)"
   ]
  }
 ],
 "metadata": {
  "kernelspec": {
   "display_name": "Python 3",
   "language": "python",
   "name": "python3"
  },
  "language_info": {
   "codemirror_mode": {
    "name": "ipython",
    "version": 3
   },
   "file_extension": ".py",
   "mimetype": "text/x-python",
   "name": "python",
   "nbconvert_exporter": "python",
   "pygments_lexer": "ipython3",
   "version": "3.10.4"
  },
  "orig_nbformat": 4
 },
 "nbformat": 4,
 "nbformat_minor": 2
}
